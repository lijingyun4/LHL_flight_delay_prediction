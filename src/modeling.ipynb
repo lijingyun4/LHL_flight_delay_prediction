{
 "cells": [
  {
   "cell_type": "code",
   "execution_count": 1,
   "metadata": {},
   "outputs": [],
   "source": [
    "import pandas as pd\n",
    "from sklearn.model_selection import train_test_split\n",
    "from sklearn.ensemble import RandomForestRegressor\n",
    "from sklearn import metrics\n",
    "from sklearn.ensemble import RandomForestClassifier\n",
    "from xgboost import XGBClassifier\n",
    "import xgboost as xgb\n",
    "from xgboost import XGBRegressor\n",
    "\n",
    "\n"
   ]
  },
  {
   "cell_type": "code",
   "execution_count": 2,
   "metadata": {},
   "outputs": [],
   "source": [
    "df = pd.read_csv('/Users/dl/Desktop/lighthouse_midterm/data/df_feature.csv',)"
   ]
  },
  {
   "cell_type": "code",
   "execution_count": 3,
   "metadata": {},
   "outputs": [
    {
     "data": {
      "text/html": [
       "<div>\n",
       "<style scoped>\n",
       "    .dataframe tbody tr th:only-of-type {\n",
       "        vertical-align: middle;\n",
       "    }\n",
       "\n",
       "    .dataframe tbody tr th {\n",
       "        vertical-align: top;\n",
       "    }\n",
       "\n",
       "    .dataframe thead th {\n",
       "        text-align: right;\n",
       "    }\n",
       "</style>\n",
       "<table border=\"1\" class=\"dataframe\">\n",
       "  <thead>\n",
       "    <tr style=\"text-align: right;\">\n",
       "      <th></th>\n",
       "      <th>crs_elapsed_time</th>\n",
       "      <th>op_unique_carrier_new</th>\n",
       "      <th>origin_new</th>\n",
       "      <th>dest_new</th>\n",
       "      <th>weather_type_new</th>\n",
       "      <th>month_new</th>\n",
       "      <th>distance_catg_new</th>\n",
       "      <th>arr_hrs_catg_new</th>\n",
       "      <th>dep_hrs_catg_new</th>\n",
       "      <th>day_new</th>\n",
       "      <th>arr_delay</th>\n",
       "    </tr>\n",
       "  </thead>\n",
       "  <tbody>\n",
       "    <tr>\n",
       "      <th>0</th>\n",
       "      <td>192.0</td>\n",
       "      <td>8</td>\n",
       "      <td>348</td>\n",
       "      <td>46</td>\n",
       "      <td>4</td>\n",
       "      <td>7</td>\n",
       "      <td>0</td>\n",
       "      <td>0</td>\n",
       "      <td>2</td>\n",
       "      <td>3</td>\n",
       "      <td>24.0</td>\n",
       "    </tr>\n",
       "    <tr>\n",
       "      <th>1</th>\n",
       "      <td>85.0</td>\n",
       "      <td>6</td>\n",
       "      <td>118</td>\n",
       "      <td>177</td>\n",
       "      <td>7</td>\n",
       "      <td>5</td>\n",
       "      <td>1</td>\n",
       "      <td>1</td>\n",
       "      <td>1</td>\n",
       "      <td>16</td>\n",
       "      <td>2.0</td>\n",
       "    </tr>\n",
       "    <tr>\n",
       "      <th>2</th>\n",
       "      <td>77.0</td>\n",
       "      <td>19</td>\n",
       "      <td>242</td>\n",
       "      <td>92</td>\n",
       "      <td>7</td>\n",
       "      <td>10</td>\n",
       "      <td>1</td>\n",
       "      <td>2</td>\n",
       "      <td>2</td>\n",
       "      <td>20</td>\n",
       "      <td>-27.0</td>\n",
       "    </tr>\n",
       "    <tr>\n",
       "      <th>3</th>\n",
       "      <td>85.0</td>\n",
       "      <td>24</td>\n",
       "      <td>269</td>\n",
       "      <td>193</td>\n",
       "      <td>7</td>\n",
       "      <td>5</td>\n",
       "      <td>1</td>\n",
       "      <td>0</td>\n",
       "      <td>0</td>\n",
       "      <td>1</td>\n",
       "      <td>22.0</td>\n",
       "    </tr>\n",
       "    <tr>\n",
       "      <th>4</th>\n",
       "      <td>148.0</td>\n",
       "      <td>27</td>\n",
       "      <td>60</td>\n",
       "      <td>253</td>\n",
       "      <td>7</td>\n",
       "      <td>11</td>\n",
       "      <td>1</td>\n",
       "      <td>2</td>\n",
       "      <td>2</td>\n",
       "      <td>24</td>\n",
       "      <td>121.0</td>\n",
       "    </tr>\n",
       "    <tr>\n",
       "      <th>...</th>\n",
       "      <td>...</td>\n",
       "      <td>...</td>\n",
       "      <td>...</td>\n",
       "      <td>...</td>\n",
       "      <td>...</td>\n",
       "      <td>...</td>\n",
       "      <td>...</td>\n",
       "      <td>...</td>\n",
       "      <td>...</td>\n",
       "      <td>...</td>\n",
       "      <td>...</td>\n",
       "    </tr>\n",
       "    <tr>\n",
       "      <th>99192</th>\n",
       "      <td>139.0</td>\n",
       "      <td>8</td>\n",
       "      <td>21</td>\n",
       "      <td>306</td>\n",
       "      <td>4</td>\n",
       "      <td>6</td>\n",
       "      <td>0</td>\n",
       "      <td>2</td>\n",
       "      <td>2</td>\n",
       "      <td>5</td>\n",
       "      <td>-7.0</td>\n",
       "    </tr>\n",
       "    <tr>\n",
       "      <th>99193</th>\n",
       "      <td>120.0</td>\n",
       "      <td>24</td>\n",
       "      <td>93</td>\n",
       "      <td>306</td>\n",
       "      <td>1</td>\n",
       "      <td>10</td>\n",
       "      <td>0</td>\n",
       "      <td>1</td>\n",
       "      <td>0</td>\n",
       "      <td>4</td>\n",
       "      <td>7.0</td>\n",
       "    </tr>\n",
       "    <tr>\n",
       "      <th>99194</th>\n",
       "      <td>172.0</td>\n",
       "      <td>2</td>\n",
       "      <td>126</td>\n",
       "      <td>266</td>\n",
       "      <td>7</td>\n",
       "      <td>3</td>\n",
       "      <td>0</td>\n",
       "      <td>2</td>\n",
       "      <td>3</td>\n",
       "      <td>21</td>\n",
       "      <td>-5.0</td>\n",
       "    </tr>\n",
       "    <tr>\n",
       "      <th>99195</th>\n",
       "      <td>235.0</td>\n",
       "      <td>2</td>\n",
       "      <td>94</td>\n",
       "      <td>318</td>\n",
       "      <td>7</td>\n",
       "      <td>5</td>\n",
       "      <td>0</td>\n",
       "      <td>2</td>\n",
       "      <td>2</td>\n",
       "      <td>11</td>\n",
       "      <td>20.0</td>\n",
       "    </tr>\n",
       "    <tr>\n",
       "      <th>99196</th>\n",
       "      <td>111.0</td>\n",
       "      <td>8</td>\n",
       "      <td>254</td>\n",
       "      <td>21</td>\n",
       "      <td>7</td>\n",
       "      <td>9</td>\n",
       "      <td>1</td>\n",
       "      <td>2</td>\n",
       "      <td>3</td>\n",
       "      <td>26</td>\n",
       "      <td>10.0</td>\n",
       "    </tr>\n",
       "  </tbody>\n",
       "</table>\n",
       "<p>99197 rows × 11 columns</p>\n",
       "</div>"
      ],
      "text/plain": [
       "       crs_elapsed_time  op_unique_carrier_new  origin_new  dest_new  \\\n",
       "0                 192.0                      8         348        46   \n",
       "1                  85.0                      6         118       177   \n",
       "2                  77.0                     19         242        92   \n",
       "3                  85.0                     24         269       193   \n",
       "4                 148.0                     27          60       253   \n",
       "...                 ...                    ...         ...       ...   \n",
       "99192             139.0                      8          21       306   \n",
       "99193             120.0                     24          93       306   \n",
       "99194             172.0                      2         126       266   \n",
       "99195             235.0                      2          94       318   \n",
       "99196             111.0                      8         254        21   \n",
       "\n",
       "       weather_type_new  month_new  distance_catg_new  arr_hrs_catg_new  \\\n",
       "0                     4          7                  0                 0   \n",
       "1                     7          5                  1                 1   \n",
       "2                     7         10                  1                 2   \n",
       "3                     7          5                  1                 0   \n",
       "4                     7         11                  1                 2   \n",
       "...                 ...        ...                ...               ...   \n",
       "99192                 4          6                  0                 2   \n",
       "99193                 1         10                  0                 1   \n",
       "99194                 7          3                  0                 2   \n",
       "99195                 7          5                  0                 2   \n",
       "99196                 7          9                  1                 2   \n",
       "\n",
       "       dep_hrs_catg_new  day_new  arr_delay  \n",
       "0                     2        3       24.0  \n",
       "1                     1       16        2.0  \n",
       "2                     2       20      -27.0  \n",
       "3                     0        1       22.0  \n",
       "4                     2       24      121.0  \n",
       "...                 ...      ...        ...  \n",
       "99192                 2        5       -7.0  \n",
       "99193                 0        4        7.0  \n",
       "99194                 3       21       -5.0  \n",
       "99195                 2       11       20.0  \n",
       "99196                 3       26       10.0  \n",
       "\n",
       "[99197 rows x 11 columns]"
      ]
     },
     "execution_count": 3,
     "metadata": {},
     "output_type": "execute_result"
    }
   ],
   "source": [
    "df\n"
   ]
  },
  {
   "cell_type": "code",
   "execution_count": 4,
   "metadata": {},
   "outputs": [
    {
     "data": {
      "text/plain": [
       "Index(['crs_elapsed_time', 'op_unique_carrier_new', 'origin_new', 'dest_new',\n",
       "       'weather_type_new', 'month_new', 'distance_catg_new',\n",
       "       'arr_hrs_catg_new', 'dep_hrs_catg_new', 'day_new', 'arr_delay'],\n",
       "      dtype='object')"
      ]
     },
     "execution_count": 4,
     "metadata": {},
     "output_type": "execute_result"
    }
   ],
   "source": [
    "df.columns"
   ]
  },
  {
   "cell_type": "code",
   "execution_count": 5,
   "metadata": {},
   "outputs": [],
   "source": [
    "cols_X = ['crs_elapsed_time', 'op_unique_carrier_new', 'origin_new', 'dest_new',\n",
    "       'weather_type_new', 'month_new', 'distance_catg_new',\n",
    "       'arr_hrs_catg_new', 'dep_hrs_catg_new', 'day_new',]\n",
    "       "
   ]
  },
  {
   "cell_type": "code",
   "execution_count": 6,
   "metadata": {},
   "outputs": [],
   "source": [
    "X = df[cols_X]\n",
    "y = df[\"arr_delay\"]"
   ]
  },
  {
   "cell_type": "code",
   "execution_count": 7,
   "metadata": {},
   "outputs": [],
   "source": [
    "X_train, X_test, y_train, y_test = train_test_split(X, y, test_size=0.25)\n"
   ]
  },
  {
   "cell_type": "code",
   "execution_count": 8,
   "metadata": {},
   "outputs": [],
   "source": [
    "X_train = X_train.reset_index(drop=True)     \n",
    "y_train = y_train.reset_index(drop=True)"
   ]
  },
  {
   "cell_type": "markdown",
   "metadata": {},
   "source": [
    "# Baseline Model\n"
   ]
  },
  {
   "cell_type": "code",
   "execution_count": 36,
   "metadata": {},
   "outputs": [
    {
     "data": {
      "text/plain": [
       "RandomForestRegressor()"
      ]
     },
     "execution_count": 36,
     "metadata": {},
     "output_type": "execute_result"
    }
   ],
   "source": [
    "mod = RandomForestRegressor()\n",
    "mod.fit(X_train,y_train)"
   ]
  },
  {
   "cell_type": "code",
   "execution_count": 37,
   "metadata": {},
   "outputs": [
    {
     "name": "stdout",
     "output_type": "stream",
     "text": [
      "R2: -0.03446813979702368\n",
      "MSE: 1212.8072080004015\n"
     ]
    }
   ],
   "source": [
    "print(f\"R2: {mod.score(X_test,y_test)}\")\n",
    "y_pred = mod.predict(X_test)\n",
    "print(f\"MSE: {metrics.mean_squared_error(y_test,y_pred)}\")"
   ]
  },
  {
   "cell_type": "markdown",
   "metadata": {},
   "source": [
    "# Random_Forest"
   ]
  },
  {
   "cell_type": "code",
   "execution_count": 11,
   "metadata": {},
   "outputs": [
    {
     "data": {
      "text/plain": [
       "RandomForestClassifier()"
      ]
     },
     "execution_count": 11,
     "metadata": {},
     "output_type": "execute_result"
    }
   ],
   "source": [
    "clf=RandomForestClassifier(n_estimators=100)\n",
    "clf.fit(X_train,y_train)"
   ]
  },
  {
   "cell_type": "code",
   "execution_count": 12,
   "metadata": {},
   "outputs": [],
   "source": [
    "y_pred_rf=clf.predict(X_test)"
   ]
  },
  {
   "cell_type": "code",
   "execution_count": 21,
   "metadata": {},
   "outputs": [
    {
     "name": "stdout",
     "output_type": "stream",
     "text": [
      "R2: 0.02346774193548387\n",
      "MSE: 1847.7701612903227\n"
     ]
    }
   ],
   "source": [
    "print(f\"R2: {clf.score(X_test,y_test)}\")\n",
    "y_pred = clf.predict(X_test)\n",
    "print(f\"MSE: {metrics.mean_squared_error(y_test,y_pred)}\")"
   ]
  },
  {
   "cell_type": "markdown",
   "metadata": {},
   "source": [
    "# XGB"
   ]
  },
  {
   "cell_type": "code",
   "execution_count": 8,
   "metadata": {},
   "outputs": [],
   "source": [
    "xgb_model = XGBRegressor()\n",
    "xgb_model.fit(X_train, y_train)\n",
    "y_pred = xgb_model.predict(X_test)"
   ]
  },
  {
   "cell_type": "code",
   "execution_count": 9,
   "metadata": {},
   "outputs": [
    {
     "name": "stdout",
     "output_type": "stream",
     "text": [
      "R2: 0.03279736310073311\n",
      "MSE: 1164.7771162176812\n"
     ]
    }
   ],
   "source": [
    "print(f\"R2: {xgb_model.score(X_test,y_test)}\")\n",
    "y_pred = xgb_model.predict(X_test)\n",
    "print(f\"MSE: {metrics.mean_squared_error(y_test,y_pred)}\")\n"
   ]
  },
  {
   "cell_type": "code",
   "execution_count": 16,
   "metadata": {},
   "outputs": [
    {
     "ename": "ImportError",
     "evalue": "cannot import name 'linear_regresion' from partially initialized module 'modules.models' (most likely due to a circular import) (/Users/dl/Desktop/lighthouse_midterm/src/modules/models/__init__.py)",
     "output_type": "error",
     "traceback": [
      "\u001b[0;31m---------------------------------------------------------------------------\u001b[0m",
      "\u001b[0;31mImportError\u001b[0m                               Traceback (most recent call last)",
      "\u001b[0;32m/var/folders/c4/3j09ddn917g1d1wzcfkwk06w0000gn/T/ipykernel_9578/3605785383.py\u001b[0m in \u001b[0;36m<module>\u001b[0;34m\u001b[0m\n\u001b[0;32m----> 1\u001b[0;31m \u001b[0;32mfrom\u001b[0m \u001b[0mmodules\u001b[0m\u001b[0;34m.\u001b[0m\u001b[0mmodels\u001b[0m \u001b[0;32mimport\u001b[0m \u001b[0mmodel_loder\u001b[0m\u001b[0;34m\u001b[0m\u001b[0;34m\u001b[0m\u001b[0m\n\u001b[0m\u001b[1;32m      2\u001b[0m \u001b[0mmodel_loder\u001b[0m\u001b[0;34m.\u001b[0m\u001b[0msave_model\u001b[0m\u001b[0;34m(\u001b[0m\u001b[0mxgb_model\u001b[0m\u001b[0;34m,\u001b[0m\u001b[0;34m'xgb'\u001b[0m\u001b[0;34m)\u001b[0m\u001b[0;34m\u001b[0m\u001b[0;34m\u001b[0m\u001b[0m\n",
      "\u001b[0;32m~/Desktop/lighthouse_midterm/src/modules/models/__init__.py\u001b[0m in \u001b[0;36m<module>\u001b[0;34m\u001b[0m\n\u001b[0;32m----> 1\u001b[0;31m \u001b[0;32mfrom\u001b[0m \u001b[0;34m.\u001b[0m \u001b[0;32mimport\u001b[0m \u001b[0mlinear_regresion\u001b[0m\u001b[0;34m\u001b[0m\u001b[0;34m\u001b[0m\u001b[0m\n\u001b[0m",
      "\u001b[0;31mImportError\u001b[0m: cannot import name 'linear_regresion' from partially initialized module 'modules.models' (most likely due to a circular import) (/Users/dl/Desktop/lighthouse_midterm/src/modules/models/__init__.py)"
     ]
    }
   ],
   "source": [
    "from modules.models import model_loder\n",
    "model_loder.save_model(xgb_model,'xgb')"
   ]
  },
  {
   "cell_type": "code",
   "execution_count": null,
   "metadata": {},
   "outputs": [],
   "source": []
  }
 ],
 "metadata": {
  "interpreter": {
   "hash": "40d3a090f54c6569ab1632332b64b2c03c39dcf918b08424e98f38b5ae0af88f"
  },
  "kernelspec": {
   "display_name": "Python 3.9.7 ('base')",
   "language": "python",
   "name": "python3"
  },
  "language_info": {
   "codemirror_mode": {
    "name": "ipython",
    "version": 3
   },
   "file_extension": ".py",
   "mimetype": "text/x-python",
   "name": "python",
   "nbconvert_exporter": "python",
   "pygments_lexer": "ipython3",
   "version": "3.9.7"
  },
  "orig_nbformat": 4
 },
 "nbformat": 4,
 "nbformat_minor": 2
}
